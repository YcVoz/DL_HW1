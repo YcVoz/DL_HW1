{
 "cells": [
  {
   "cell_type": "code",
   "execution_count": 1,
   "metadata": {},
   "outputs": [],
   "source": [
    "import numpy as np\n",
    "import math\n",
    "import pandas \n",
    "import random \n",
    "import time\n",
    "from sklearn.preprocessing import OneHotEncoder,LabelEncoder\n",
    "from sklearn.compose import ColumnTransformer\n",
    "from sklearn import preprocessing\n",
    "from mpl_toolkits import mplot3d\n",
    "import matplotlib.pyplot as plt"
   ]
  },
  {
   "cell_type": "code",
   "execution_count": 2,
   "metadata": {},
   "outputs": [],
   "source": [
    "dataframe = pandas.read_csv(\"ionosphere_data.csv\")"
   ]
  },
  {
   "cell_type": "code",
   "execution_count": 3,
   "metadata": {
    "scrolled": true
   },
   "outputs": [],
   "source": [
    "#print(dataframe.head())"
   ]
  },
  {
   "cell_type": "code",
   "execution_count": 4,
   "metadata": {},
   "outputs": [],
   "source": [
    "#print(dataframe.describe())"
   ]
  },
  {
   "cell_type": "code",
   "execution_count": 5,
   "metadata": {},
   "outputs": [],
   "source": [
    "#print(\"Shape:\", dataframe.shape)"
   ]
  },
  {
   "cell_type": "code",
   "execution_count": 6,
   "metadata": {},
   "outputs": [],
   "source": [
    "#print(\"Data Types:\", dataframe.dtypes)"
   ]
  },
  {
   "cell_type": "code",
   "execution_count": 7,
   "metadata": {},
   "outputs": [],
   "source": [
    "#print(\"Correlation:\", dataframe.corr(method='pearson'))"
   ]
  },
  {
   "cell_type": "code",
   "execution_count": 8,
   "metadata": {},
   "outputs": [],
   "source": [
    "#print(dataframe.values)"
   ]
  },
  {
   "cell_type": "code",
   "execution_count": 9,
   "metadata": {},
   "outputs": [
    {
     "name": "stdout",
     "output_type": "stream",
     "text": [
      "\n"
     ]
    }
   ],
   "source": [
    "#shuffle\n",
    "dataset = np.array(dataframe.values)\n",
    "dataset_shuf = []\n",
    "index_shuf = list(range(len(dataset)))\n",
    "random.shuffle(index_shuf)\n",
    "for i in index_shuf:\n",
    "    dataset_shuf.append(dataset[i,:])   \n",
    "dataset_shuf = np.array(dataset_shuf)\n",
    "dataset_shuf.reshape(350,35)\n",
    "\n",
    "print(\"\")"
   ]
  },
  {
   "cell_type": "code",
   "execution_count": 10,
   "metadata": {},
   "outputs": [
    {
     "name": "stdout",
     "output_type": "stream",
     "text": [
      "\n"
     ]
    }
   ],
   "source": [
    "#ont hot g = 0 b = 1\n",
    "for i in range(350) :\n",
    "    if dataset_shuf[i,34] == 'g' :\n",
    "        dataset_shuf[i,34] = 0\n",
    "    elif dataset_shuf[i,34] == 'b' :\n",
    "        dataset_shuf[i,34] = 1\n",
    "#print(dataset_shuf)\n",
    "\n",
    "print(\"\")"
   ]
  },
  {
   "cell_type": "code",
   "execution_count": 11,
   "metadata": {},
   "outputs": [
    {
     "name": "stdout",
     "output_type": "stream",
     "text": [
      "\n"
     ]
    }
   ],
   "source": [
    "X_train = dataset_shuf[:270,0:34]\n",
    "Y_train = dataset_shuf[:270,34:35]\n",
    "X_train.reshape(270,34)\n",
    "Y_train.reshape(270,1)\n",
    "\n",
    "X_test = dataset_shuf[270:,0:34]\n",
    "Y_test = dataset_shuf[270:,34:35]\n",
    "X_test.reshape(80,34)\n",
    "Y_test.reshape(80,1)\n",
    "print(\"\")"
   ]
  },
  {
   "cell_type": "code",
   "execution_count": 12,
   "metadata": {},
   "outputs": [
    {
     "name": "stdout",
     "output_type": "stream",
     "text": [
      "\n"
     ]
    }
   ],
   "source": [
    "pandas.DataFrame(Y_train)\n",
    "print(\"\")"
   ]
  },
  {
   "cell_type": "code",
   "execution_count": 13,
   "metadata": {},
   "outputs": [],
   "source": [
    "def ReLU(x) :\n",
    "    return x * (x > 0) + 0.01 * x * (x <= 0)\n",
    "\n",
    "def ReLU_der(x) :\n",
    "    return 1 * (x > 0) + 0.01 * (x <= 0)\n",
    "    \n",
    "def Sigmoid(x) :\n",
    "    x = x.astype('float64')\n",
    "    return 1/(1+np.exp(-x))\n",
    "\n",
    "def Sigmoid_der(x) :\n",
    "    x = x.astype('float64')\n",
    "    return Sigmoid(x) * (1 - Sigmoid(x))\n",
    "\n",
    "def limit(x) :  \n",
    "    while(np.max(x) > 0.1 or np.min(x) < -0.1) : \n",
    "            x /= 10\n",
    "    return x \n",
    "def error(x, y) :\n",
    "    CEE = 0\n",
    "    for i in range(len(y)):\n",
    "        if y[i] == 0 :\n",
    "            CEE += -math.log(1-x[i])\n",
    "        elif y[i] == 1:    \n",
    "            CEE += -math.log(x[i])\n",
    "    return CEE"
   ]
  },
  {
   "cell_type": "code",
   "execution_count": 14,
   "metadata": {
    "scrolled": true
   },
   "outputs": [
    {
     "name": "stdout",
     "output_type": "stream",
     "text": [
      "now training  0.0 %\n",
      "now training  5.0 %\n",
      "now training  10.0 %\n",
      "now training  15.0 %\n",
      "now training  20.0 %\n",
      "now training  25.0 %\n",
      "now training  30.0 %\n",
      "now training  35.0 %\n",
      "now training  40.0 %\n",
      "now training  45.0 %\n",
      "now training  50.0 %\n",
      "now training  55.0 %\n",
      "now training  60.0 %\n",
      "now training  65.0 %\n",
      "now training  70.0 %\n",
      "now training  75.0 %\n",
      "now training  80.0 %\n",
      "now training  85.0 %\n",
      "now training  90.0 %\n",
      "now training  95.0 %\n",
      "------------------------------------\n",
      "last Layer Node:  2\n",
      "-\n",
      "train error: 44.30186047114578\n",
      "test error: 29.03287042889294\n"
     ]
    },
    {
     "data": {
      "image/png": "[encoded data removed]",
      "text/plain": [
       "<Figure size 432x288 with 1 Axes>"
      ]
     },
     "metadata": {
      "needs_background": "light"
     },
     "output_type": "display_data"
    },
    {
     "data": {
      "image/png": "[encoded data removed]",
      "text/plain": [
       "<Figure size 432x288 with 1 Axes>"
      ]
     },
     "metadata": {
      "needs_background": "light"
     },
     "output_type": "display_data"
    },
    {
     "name": "stdout",
     "output_type": "stream",
     "text": [
      "------------------------------------\n",
      "now training  0.0 %\n",
      "now training  5.0 %\n",
      "now training  10.0 %\n",
      "now training  15.0 %\n",
      "now training  20.0 %\n",
      "now training  25.0 %\n",
      "now training  30.0 %\n",
      "now training  35.0 %\n",
      "now training  40.0 %\n",
      "now training  45.0 %\n",
      "now training  50.0 %\n",
      "now training  55.0 %\n",
      "now training  60.0 %\n",
      "now training  65.0 %\n",
      "now training  70.0 %\n",
      "now training  75.0 %\n",
      "now training  80.0 %\n",
      "now training  85.0 %\n",
      "now training  90.0 %\n",
      "now training  95.0 %\n",
      "------------------------------------\n",
      "last Layer Node:  3\n",
      "-\n",
      "train error: 7.633003818633944\n",
      "test error: 38.761438391934846\n"
     ]
    },
    {
     "data": {
      "image/png": "[encoded data removed]",
      "text/plain": [
       "<Figure size 432x288 with 1 Axes>"
      ]
     },
     "metadata": {
      "needs_background": "light"
     },
     "output_type": "display_data"
    },
    {
     "data": {
      "image/png": "[encoded data removed]",
      "text/plain": [
       "<Figure size 432x288 with 1 Axes>"
      ]
     },
     "metadata": {
      "needs_background": "light"
     },
     "output_type": "display_data"
    },
    {
     "name": "stdout",
     "output_type": "stream",
     "text": [
      "\n",
      "------------------------------------\n",
      "end\n"
     ]
    }
   ],
   "source": [
    "epochtimes = 20000\n",
    "mini_batch = 16\n",
    "bestloss1 = 1e30 #Mini Batch Loss\n",
    "preloss = 1e30   #decay the learning rate\n",
    "start = time.time()\n",
    "\n",
    "    \n",
    "for i in range(2):\n",
    "\n",
    "    lastLayerNode = i + 2\n",
    "\n",
    "    #define weight:\n",
    "\n",
    "    weight_hidden = np.random.random((34,32))-0.5\n",
    "    weight_hidden2 = np.random.random((32,32))-0.5\n",
    "    weight_hidden3 = np.random.random((32,32))-0.5\n",
    "    weight_hidden4 = np.random.random((32,16))-0.5\n",
    "    weight_hidden5 = np.random.random((16,lastLayerNode))-0.5\n",
    "    weight_output = np.random.random((lastLayerNode,1))-0.5\n",
    "    lr = 0.003\n",
    "\n",
    "    bias = 0.01\n",
    "    bias1 = 0.01\n",
    "    bias2 = 0.01\n",
    "    bias3 = 0.01\n",
    "    bias4 = 0.01\n",
    "    bias5 = 0.01\n",
    "\n",
    "    ######\n",
    "    \n",
    "    lossCurve = []\n",
    "    \n",
    "    for epoch in range(epochtimes):\n",
    "        X_train_random = []\n",
    "        Y_train_random = []\n",
    "        for i in range(mini_batch):\n",
    "            rindex = random.randint(0,len(X_train)-1)\n",
    "            X_train_random.append(X_train[rindex,:])\n",
    "            Y_train_random.append(Y_train[rindex,:])\n",
    "        X_train_random = np.array(X_train_random)\n",
    "        Y_train_random = np.array(Y_train_random)\n",
    "\n",
    "\n",
    "\n",
    "        input_hidden = np.dot(X_train_random, weight_hidden) + bias\n",
    "        output_hidden = ReLU(input_hidden)\n",
    "\n",
    "        input_hidden2 = np.dot(output_hidden, weight_hidden2) + bias1\n",
    "        output_hidden2 = ReLU(input_hidden2)\n",
    "        input_hidden3 = np.dot(output_hidden2, weight_hidden3) + bias2\n",
    "        output_hidden3 = ReLU(input_hidden3)\n",
    "        input_hidden4 = np.dot(output_hidden3, weight_hidden4) + bias3\n",
    "        output_hidden4 = ReLU(input_hidden4)\n",
    "        input_hidden5 = np.dot(output_hidden4, weight_hidden5) + bias4\n",
    "        output_hidden5 = ReLU(input_hidden5)\n",
    "        input_op = np.dot(output_hidden5, weight_output)+ bias5\n",
    "        output_op = Sigmoid(input_op)\n",
    "\n",
    "\n",
    "        #==========================================\n",
    "\n",
    "        derror_douto = output_op - Y_train_random\n",
    "        douto_dino = Sigmoid_der(input_op)\n",
    "        dino_dwo = output_hidden5      \n",
    "        derror_dwo = np.dot(dino_dwo.T, derror_douto * douto_dino)\n",
    "        derror_dbias5 = derror_douto * douto_dino\n",
    "\n",
    "        #==========================================\n",
    "\n",
    "        derror_dino = derror_douto * douto_dino\n",
    "        dino_douth5 = weight_output\n",
    "        derror_douth5 = np.dot(derror_dino, dino_douth5.T)\n",
    "        douth5_dinh5 = ReLU_der(input_hidden5)\n",
    "        dinh5_dwh5 = output_hidden4\n",
    "        derror_dwh5 = np.dot(dinh5_dwh5.T, douth5_dinh5 * derror_douth5)\n",
    "        derror_dbias4 = douth5_dinh5 * derror_douth5\n",
    "\n",
    "        #==========================================\n",
    "\n",
    "        derror_dinh5 = derror_douth5 * douth5_dinh5\n",
    "        dinh5_douth4 = weight_hidden5\n",
    "        derror_douth4 = np.dot(derror_dinh5, dinh5_douth4.T)\n",
    "        douth4_dinh4 = ReLU_der(input_hidden4)\n",
    "        dinh4_dwh4 = output_hidden3\n",
    "        derror_dwh4 = np.dot(dinh4_dwh4.T, douth4_dinh4 * derror_douth4)\n",
    "        derror_dbias3 = douth4_dinh4 * derror_douth4\n",
    "\n",
    "        #==========================================\n",
    "\n",
    "        derror_dinh4 = derror_douth4 * douth4_dinh4\n",
    "        dinh4_douth3 = weight_hidden4\n",
    "        derror_douth3 = np.dot(derror_dinh4, dinh4_douth3.T)\n",
    "        douth3_dinh3 = ReLU_der(input_hidden3)\n",
    "        dinh3_dwh3 = output_hidden2\n",
    "        derror_dwh3 = np.dot(dinh3_dwh3.T, douth3_dinh3 * derror_douth3)\n",
    "        derror_dbias2 = douth3_dinh3 * derror_douth3\n",
    "\n",
    "        #==========================================\n",
    "\n",
    "        derror_dinh3 = derror_douth3 * douth3_dinh3\n",
    "        dinh3_douth2 = weight_hidden3\n",
    "        derror_douth2 = np.dot(derror_dinh3, dinh3_douth2.T)\n",
    "        douth2_dinh2 = ReLU_der(input_hidden2)\n",
    "        dinh2_dwh2 = output_hidden\n",
    "        derror_dwh2 = np.dot(dinh2_dwh2.T, douth2_dinh2 * derror_douth2)\n",
    "        derror_dbias1 = douth2_dinh2 * derror_douth2\n",
    "\n",
    "        #==========================================\n",
    "\n",
    "        derror_dinh2 = derror_douth2 * douth2_dinh2\n",
    "        dinh2_douth = weight_hidden2\n",
    "        derror_douth = np.dot(derror_dinh2, dinh2_douth.T)\n",
    "        douth_dinh = ReLU_der(input_hidden)\n",
    "        dinh_dwh = X_train_random\n",
    "        derror_dwh = np.dot(dinh_dwh.T, douth_dinh * derror_douth)    \n",
    "        derror_dbias = douth_dinh * derror_douth\n",
    "\n",
    "        #==========================================\n",
    "\n",
    "\n",
    "\n",
    "        weight_hidden = weight_hidden-lr * derror_dwh\n",
    "        weight_hidden2 = weight_hidden2-lr * derror_dwh2\n",
    "        weight_hidden3 = weight_hidden3-lr * derror_dwh3\n",
    "        weight_hidden4 = weight_hidden4-lr * derror_dwh4\n",
    "        weight_hidden5 = weight_hidden5-lr * derror_dwh5\n",
    "        weight_output = weight_output-lr * derror_dwo\n",
    "\n",
    "        bias -= lr * derror_dbias.sum()/np.size(derror_dbias)\n",
    "        bias1 -= lr * derror_dbias1.sum()/np.size(derror_dbias1)\n",
    "        bias2 -= lr * derror_dbias2.sum()/np.size(derror_dbias2)\n",
    "        bias3 -= lr * derror_dbias3.sum()/np.size(derror_dbias3)\n",
    "        bias4 -= lr * derror_dbias4.sum()/np.size(derror_dbias4)\n",
    "        bias5 -= lr * derror_dbias5.sum()/np.size(derror_dbias5)\n",
    "\n",
    "\n",
    "        #calulate error \n",
    "        if epoch % 1000 == 0 : \n",
    "            input_hidden = np.dot(X_train, weight_hidden) + bias\n",
    "            output_hidden = ReLU(input_hidden)\n",
    "            input_hidden2 = np.dot(output_hidden, weight_hidden2) + bias1\n",
    "            output_hidden2 = ReLU(input_hidden2)\n",
    "            input_hidden3 = np.dot(output_hidden2, weight_hidden3) + bias2\n",
    "            output_hidden3 = ReLU(input_hidden3)\n",
    "            input_hidden4 = np.dot(output_hidden3, weight_hidden4) + bias3\n",
    "            output_hidden4 = ReLU(input_hidden4)\n",
    "            input_hidden5 = np.dot(output_hidden4, weight_hidden5) + bias4\n",
    "            output_hidden5 = ReLU(input_hidden5)\n",
    "            input_op = np.dot(output_hidden5, weight_output)+ bias5\n",
    "            output_op = Sigmoid(input_op)\n",
    "            error_out = error(output_op, Y_train)\n",
    "            lossCurve.append(error_out)\n",
    "\n",
    "            #set decay for learning rate\n",
    "            if error_out > preloss :\n",
    "                lr *= 0.9\n",
    "\n",
    "            preloss = error_out\n",
    "\n",
    "\n",
    "            print('now training ',epoch*100/epochtimes,'%')\n",
    "            #print(error_out)\n",
    "            #print(error_out)\n",
    "            #print('\\n',lr * derror_dwh,'\\n', lr * derror_dwo,'\\n')\n",
    "\n",
    "\n",
    "            #print(derror_wh, derror_wo)\n",
    "\n",
    "            \n",
    "    single_point = np.array(X_train)\n",
    "    result1 = np.dot(single_point, weight_hidden)\n",
    "    result2 = ReLU(result1)\n",
    "    result3 = np.dot(result2, weight_hidden2)\n",
    "    result4 = ReLU(result3)\n",
    "    result5 = np.dot(result4, weight_hidden3)\n",
    "    result6 = ReLU(result5)\n",
    "    result7 = np.dot(result6, weight_hidden4)\n",
    "    result8 = ReLU(result7)\n",
    "    result9 = np.dot(result8, weight_hidden5)\n",
    "    result10 = ReLU(result9)\n",
    "    result11 = np.dot(result10, weight_output)\n",
    "    result12 = Sigmoid(result11)\n",
    "    print(\"------------------------------------\")\n",
    "    print(\"last Layer Node: \",lastLayerNode)\n",
    "    print(\"-\")\n",
    "    print(\"train error:\",error(result12, Y_train))\n",
    "    \n",
    "    single_point = np.array(X_test)\n",
    "    result1 = np.dot(single_point, weight_hidden)\n",
    "    result2 = ReLU(result1)\n",
    "    result3 = np.dot(result2, weight_hidden2)\n",
    "    result4 = ReLU(result3)\n",
    "    result5 = np.dot(result4, weight_hidden3)\n",
    "    result6 = ReLU(result5)\n",
    "    result7 = np.dot(result6, weight_hidden4)\n",
    "    result8 = ReLU(result7)\n",
    "    result9 = np.dot(result8, weight_hidden5)\n",
    "    result10 = ReLU(result9)\n",
    "    result11 = np.dot(result10, weight_output)\n",
    "    result12 = Sigmoid(result11)\n",
    "    \n",
    "    error_out = error(result12, Y_test)\n",
    "    print(\"test error:\",error_out)\n",
    "    plt.plot(lossCurve)\n",
    "    plt.title('learningCurve_loss')\n",
    "    plt.xlabel('kilo epochs')\n",
    "\n",
    "    plt.show()\n",
    "    if (lastLayerNode == 2):\n",
    "        \n",
    "        group11 = [[],[]]\n",
    "        group00 = [[],[]]\n",
    "        for i in range(len(X_test)):\n",
    "            if(result12[i]>=0.5):\n",
    "                for indexx in range(2):\n",
    "                    group11[indexx].append(result10[i][indexx])\n",
    "            else:\n",
    "                for indexx in range(2):\n",
    "                    group00[indexx].append(result10[i][indexx])\n",
    "        fig, aax = plt.subplots()\n",
    "        aax.scatter(group00[0], group00[1],c='b')\n",
    "        aax.scatter(group11[0], group11[1],c='r')\n",
    "        aax.set_title('2D feature '+str(epochtimes)+' epoch');\n",
    "        plt.show()\n",
    "    elif (lastLayerNode == 3):\n",
    "        \n",
    "        group1 = [[],[],[]]\n",
    "        group0 = [[],[],[]]\n",
    "\n",
    "        for i in range(len(X_test)):\n",
    "            if(result12[i]>=0.5):\n",
    "                for indexx in range(3):\n",
    "                    group1[indexx].append(result10[i][indexx])\n",
    "            else:\n",
    "                for indexx in range(3):\n",
    "                    group0[indexx].append(result10[i][indexx])\n",
    "\n",
    "        ax = plt.axes(projection='3d')\n",
    "        ax.scatter3D(group1[0], group1[1], group1[2], c='r');\n",
    "        ax.scatter3D(group0[0], group0[1], group0[2], c='b');\n",
    "        ax.set_title('3D feature '+str(epochtimes)+' epoch');\n",
    "        plt.show()\n",
    "        print(\"\")\n",
    "    else:\n",
    "        print(\"somethingWrong\")\n",
    "    print(\"------------------------------------\")\n",
    "print(\"end\")\n",
    "end = time.time()"
   ]
  }
 ],
 "metadata": {
  "kernelspec": {
   "display_name": "Python 3",
   "language": "python",
   "name": "python3"
  },
  "language_info": {
   "codemirror_mode": {
    "name": "ipython",
    "version": 3
   },
   "file_extension": ".py",
   "mimetype": "text/x-python",
   "name": "python",
   "nbconvert_exporter": "python",
   "pygments_lexer": "ipython3",
   "version": "3.8.3"
  }
 },
 "nbformat": 4,
 "nbformat_minor": 2
}
